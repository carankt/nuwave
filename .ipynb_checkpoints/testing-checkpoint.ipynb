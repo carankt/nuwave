{
 "cells": [
  {
   "cell_type": "code",
   "execution_count": 1,
   "id": "089f1fe1-6ef8-4991-a297-dbf4d4d8a238",
   "metadata": {},
   "outputs": [
    {
     "name": "stdout",
     "output_type": "stream",
     "text": [
      "Requirement already satisfied: torchaudio in /Users/karanthakkar/opt/anaconda3/lib/python3.8/site-packages (0.10.0)\n",
      "Collecting torch==1.10.0\n",
      "  Using cached torch-1.10.0-cp38-none-macosx_10_9_x86_64.whl (147.1 MB)\n",
      "Requirement already satisfied: typing-extensions in /Users/karanthakkar/opt/anaconda3/lib/python3.8/site-packages (from torch==1.10.0->torchaudio) (3.7.4.3)\n",
      "Installing collected packages: torch\n",
      "  Attempting uninstall: torch\n",
      "    Found existing installation: torch 1.11.0\n",
      "    Uninstalling torch-1.11.0:\n",
      "      Successfully uninstalled torch-1.11.0\n",
      "\u001b[31mERROR: pip's dependency resolver does not currently take into account all the packages that are installed. This behaviour is the source of the following dependency conflicts.\n",
      "torchvision 0.12.0 requires torch==1.11.0, but you have torch 1.10.0 which is incompatible.\u001b[0m\n",
      "Successfully installed torch-1.10.0\n"
     ]
    }
   ],
   "source": [
    "!pip install torchaudio"
   ]
  },
  {
   "cell_type": "code",
   "execution_count": 2,
   "id": "eca8469d-8266-4d98-89d1-d5162a67fd5d",
   "metadata": {},
   "outputs": [],
   "source": [
    "from torchaudio import datasets"
   ]
  },
  {
   "cell_type": "code",
   "execution_count": null,
   "id": "c55088ff-bef9-4eb9-b229-d1c67f10d3c6",
   "metadata": {},
   "outputs": [],
   "source": [
    "datasets.VCTK_092('data/', download = True)"
   ]
  },
  {
   "cell_type": "code",
   "execution_count": 15,
   "id": "dae51aa3-aaca-4c5b-8123-6dbd64796d76",
   "metadata": {},
   "outputs": [],
   "source": [
    "import torch\n",
    "y = torch.arange(25).view(5, 5)"
   ]
  },
  {
   "cell_type": "code",
   "execution_count": 20,
   "id": "43622760-acff-4daf-8092-e48b06407925",
   "metadata": {},
   "outputs": [],
   "source": [
    "gate, filter, q = torch.chunk(y, 3, dim=1)"
   ]
  },
  {
   "cell_type": "code",
   "execution_count": 21,
   "id": "2f0e2547-1ca9-4477-bc84-ace4890a900e",
   "metadata": {},
   "outputs": [
    {
     "data": {
      "text/plain": [
       "tensor([[ 0,  1],\n",
       "        [ 5,  6],\n",
       "        [10, 11],\n",
       "        [15, 16],\n",
       "        [20, 21]])"
      ]
     },
     "execution_count": 21,
     "metadata": {},
     "output_type": "execute_result"
    }
   ],
   "source": [
    "gate "
   ]
  },
  {
   "cell_type": "code",
   "execution_count": 22,
   "id": "312c96d7-fa0b-4080-b3ed-b67b9f2866ee",
   "metadata": {},
   "outputs": [
    {
     "data": {
      "text/plain": [
       "tensor([[ 2,  3],\n",
       "        [ 7,  8],\n",
       "        [12, 13],\n",
       "        [17, 18],\n",
       "        [22, 23]])"
      ]
     },
     "execution_count": 22,
     "metadata": {},
     "output_type": "execute_result"
    }
   ],
   "source": [
    "filter"
   ]
  },
  {
   "cell_type": "code",
   "execution_count": 23,
   "id": "5833dfa1-57ab-45ae-9937-b0f6130279ce",
   "metadata": {},
   "outputs": [
    {
     "data": {
      "text/plain": [
       "tensor([[ 4],\n",
       "        [ 9],\n",
       "        [14],\n",
       "        [19],\n",
       "        [24]])"
      ]
     },
     "execution_count": 23,
     "metadata": {},
     "output_type": "execute_result"
    }
   ],
   "source": [
    "q"
   ]
  },
  {
   "cell_type": "code",
   "execution_count": null,
   "id": "2d4d53ae-7e28-4159-833d-c9e64307b3a8",
   "metadata": {},
   "outputs": [],
   "source": []
  }
 ],
 "metadata": {
  "kernelspec": {
   "display_name": "Python 3",
   "language": "python",
   "name": "python3"
  },
  "language_info": {
   "codemirror_mode": {
    "name": "ipython",
    "version": 3
   },
   "file_extension": ".py",
   "mimetype": "text/x-python",
   "name": "python",
   "nbconvert_exporter": "python",
   "pygments_lexer": "ipython3",
   "version": "3.8.8"
  }
 },
 "nbformat": 4,
 "nbformat_minor": 5
}
